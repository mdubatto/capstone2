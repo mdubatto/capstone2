{
 "cells": [
  {
   "cell_type": "code",
   "execution_count": 20,
   "metadata": {},
   "outputs": [
    {
     "name": "stdout",
     "output_type": "stream",
     "text": [
      "Hello\n"
     ]
    }
   ],
   "source": [
    "import pandas as pd\n",
    "import numpy as np\n",
    "import matplotlib.pyplot as plt\n",
    "from matplotlib import style, rcParams\n",
    "from sklearn.feature_extraction.text import TfidfVectorizer\n",
    "from nltk.corpus import stopwords\n",
    "from sklearn.pipeline import Pipeline\n",
    "from sklearn.decomposition import NMF, PCA\n",
    "from sklearn.model_selection import train_test_split, RandomizedSearchCV, GridSearchCV, cross_validate\n",
    "from sklearn.ensemble import GradientBoostingClassifier, RandomForestClassifier\n",
    "from sklearn.metrics import classification_report, confusion_matrix, f1_score\n",
    "import xgboost.sklearn as xgb\n",
    "import xgboost as x\n",
    "import gensim\n",
    "import seaborn as sns\n",
    "import pickle\n",
    "import nlp_pipeline as nlp\n",
    "# %load_ext autoreload\n",
    "%autoreload 2\n",
    "style.use('ggplot')\n",
    "rcParams['font.size'] = 14\n",
    "rcParams['legend.fontsize'] = 'small'\n",
    "rcParams['figure.titlesize'] = 'large'"
   ]
  },
  {
   "cell_type": "code",
   "execution_count": 16,
   "metadata": {},
   "outputs": [
    {
     "data": {
      "text/html": [
       "<div>\n",
       "<style scoped>\n",
       "    .dataframe tbody tr th:only-of-type {\n",
       "        vertical-align: middle;\n",
       "    }\n",
       "\n",
       "    .dataframe tbody tr th {\n",
       "        vertical-align: top;\n",
       "    }\n",
       "\n",
       "    .dataframe thead th {\n",
       "        text-align: right;\n",
       "    }\n",
       "</style>\n",
       "<table border=\"1\" class=\"dataframe\">\n",
       "  <thead>\n",
       "    <tr style=\"text-align: right;\">\n",
       "      <th></th>\n",
       "      <th>Labels</th>\n",
       "      <th>Text</th>\n",
       "      <th>Text_Tag</th>\n",
       "    </tr>\n",
       "  </thead>\n",
       "  <tbody>\n",
       "    <tr>\n",
       "      <th>0</th>\n",
       "      <td>1</td>\n",
       "      <td>Says the Annies List political group supports ...</td>\n",
       "      <td>abortion</td>\n",
       "    </tr>\n",
       "    <tr>\n",
       "      <th>1</th>\n",
       "      <td>2</td>\n",
       "      <td>When did the decline of coal start? It started...</td>\n",
       "      <td>energy,history,job-accomplishments</td>\n",
       "    </tr>\n",
       "    <tr>\n",
       "      <th>2</th>\n",
       "      <td>3</td>\n",
       "      <td>Hillary Clinton agrees with John McCain \"by vo...</td>\n",
       "      <td>foreign-policy</td>\n",
       "    </tr>\n",
       "    <tr>\n",
       "      <th>3</th>\n",
       "      <td>1</td>\n",
       "      <td>Health care reform legislation is likely to ma...</td>\n",
       "      <td>health-care</td>\n",
       "    </tr>\n",
       "    <tr>\n",
       "      <th>4</th>\n",
       "      <td>2</td>\n",
       "      <td>The economic turnaround started at the end of ...</td>\n",
       "      <td>economy,jobs</td>\n",
       "    </tr>\n",
       "    <tr>\n",
       "      <th>...</th>\n",
       "      <td>...</td>\n",
       "      <td>...</td>\n",
       "      <td>...</td>\n",
       "    </tr>\n",
       "    <tr>\n",
       "      <th>10234</th>\n",
       "      <td>2</td>\n",
       "      <td>Under the ruling of the Supreme Court, any lob...</td>\n",
       "      <td>corporations,elections</td>\n",
       "    </tr>\n",
       "    <tr>\n",
       "      <th>10235</th>\n",
       "      <td>3</td>\n",
       "      <td>There are a larger number of shark attacks in ...</td>\n",
       "      <td>animals,elections</td>\n",
       "    </tr>\n",
       "    <tr>\n",
       "      <th>10236</th>\n",
       "      <td>3</td>\n",
       "      <td>Democrats have now become the party of the [At...</td>\n",
       "      <td>elections</td>\n",
       "    </tr>\n",
       "    <tr>\n",
       "      <th>10237</th>\n",
       "      <td>2</td>\n",
       "      <td>Says an alternative to Social Security that op...</td>\n",
       "      <td>retirement,social-security</td>\n",
       "    </tr>\n",
       "    <tr>\n",
       "      <th>10238</th>\n",
       "      <td>1</td>\n",
       "      <td>On lifting the U.S. Cuban embargo and allowing...</td>\n",
       "      <td>florida,foreign-policy</td>\n",
       "    </tr>\n",
       "  </tbody>\n",
       "</table>\n",
       "<p>9401 rows × 3 columns</p>\n",
       "</div>"
      ],
      "text/plain": [
       "       Labels                                               Text  \\\n",
       "0           1  Says the Annies List political group supports ...   \n",
       "1           2  When did the decline of coal start? It started...   \n",
       "2           3  Hillary Clinton agrees with John McCain \"by vo...   \n",
       "3           1  Health care reform legislation is likely to ma...   \n",
       "4           2  The economic turnaround started at the end of ...   \n",
       "...       ...                                                ...   \n",
       "10234       2  Under the ruling of the Supreme Court, any lob...   \n",
       "10235       3  There are a larger number of shark attacks in ...   \n",
       "10236       3  Democrats have now become the party of the [At...   \n",
       "10237       2  Says an alternative to Social Security that op...   \n",
       "10238       1  On lifting the U.S. Cuban embargo and allowing...   \n",
       "\n",
       "                                 Text_Tag  \n",
       "0                                abortion  \n",
       "1      energy,history,job-accomplishments  \n",
       "2                          foreign-policy  \n",
       "3                             health-care  \n",
       "4                            economy,jobs  \n",
       "...                                   ...  \n",
       "10234              corporations,elections  \n",
       "10235                   animals,elections  \n",
       "10236                           elections  \n",
       "10237          retirement,social-security  \n",
       "10238              florida,foreign-policy  \n",
       "\n",
       "[9401 rows x 3 columns]"
      ]
     },
     "execution_count": 16,
     "metadata": {},
     "output_type": "execute_result"
    }
   ],
   "source": [
    "df = pd.read_csv('../data/train.csv')\n",
    "df_5class = df[df['Labels'] != 4].copy()\n",
    "y = df_5class['Labels']\n",
    "df_5class"
   ]
  },
  {
   "cell_type": "code",
   "execution_count": null,
   "metadata": {},
   "outputs": [],
   "source": [
    "corpus"
   ]
  },
  {
   "cell_type": "code",
   "execution_count": 17,
   "metadata": {},
   "outputs": [
    {
     "data": {
      "text/plain": [
       "[['say',\n",
       "  'the',\n",
       "  'annies',\n",
       "  'list',\n",
       "  'political',\n",
       "  'group',\n",
       "  'support',\n",
       "  'third-trimester',\n",
       "  'abortion',\n",
       "  'on',\n",
       "  'demand'],\n",
       " ['when',\n",
       "  'did',\n",
       "  'the',\n",
       "  'decline',\n",
       "  'of',\n",
       "  'coal',\n",
       "  'start',\n",
       "  'it',\n",
       "  'started',\n",
       "  'when',\n",
       "  'natural',\n",
       "  'gas',\n",
       "  'took',\n",
       "  'off',\n",
       "  'that',\n",
       "  'started',\n",
       "  'to',\n",
       "  'begin',\n",
       "  'in',\n",
       "  'president',\n",
       "  'george',\n",
       "  'w.',\n",
       "  'bush',\n",
       "  'administration'],\n",
       " ['hillary',\n",
       "  'clinton',\n",
       "  'agrees',\n",
       "  'with',\n",
       "  'john',\n",
       "  'mccain',\n",
       "  '``',\n",
       "  'by',\n",
       "  'voting',\n",
       "  'to',\n",
       "  'give',\n",
       "  'george',\n",
       "  'bush',\n",
       "  'the',\n",
       "  'benefit',\n",
       "  'of',\n",
       "  'the',\n",
       "  'doubt',\n",
       "  'on',\n",
       "  'iran',\n",
       "  \"''\"],\n",
       " ['health',\n",
       "  'care',\n",
       "  'reform',\n",
       "  'legislation',\n",
       "  'is',\n",
       "  'likely',\n",
       "  'to',\n",
       "  'mandate',\n",
       "  'free',\n",
       "  'sex',\n",
       "  'change',\n",
       "  'surgery'],\n",
       " ['the',\n",
       "  'economic',\n",
       "  'turnaround',\n",
       "  'started',\n",
       "  'at',\n",
       "  'the',\n",
       "  'end',\n",
       "  'of',\n",
       "  'my',\n",
       "  'term'],\n",
       " ['the',\n",
       "  'chicago',\n",
       "  'bear',\n",
       "  'have',\n",
       "  'had',\n",
       "  'more',\n",
       "  'starting',\n",
       "  'quarterback',\n",
       "  'in',\n",
       "  'the',\n",
       "  'last',\n",
       "  '10',\n",
       "  'year',\n",
       "  'than',\n",
       "  'the',\n",
       "  'total',\n",
       "  'number',\n",
       "  'of',\n",
       "  'tenured',\n",
       "  'uw',\n",
       "  'faculty',\n",
       "  'fired',\n",
       "  'during',\n",
       "  'the',\n",
       "  'last',\n",
       "  'two',\n",
       "  'decade'],\n",
       " ['jim',\n",
       "  'dunnam',\n",
       "  'ha',\n",
       "  'not',\n",
       "  'lived',\n",
       "  'in',\n",
       "  'the',\n",
       "  'district',\n",
       "  'he',\n",
       "  'represents',\n",
       "  'for',\n",
       "  'year',\n",
       "  'now'],\n",
       " ['i',\n",
       "  \"'m\",\n",
       "  'the',\n",
       "  'only',\n",
       "  'person',\n",
       "  'on',\n",
       "  'this',\n",
       "  'stage',\n",
       "  'who',\n",
       "  'ha',\n",
       "  'worked',\n",
       "  'actively',\n",
       "  'just',\n",
       "  'last',\n",
       "  'year',\n",
       "  'passing',\n",
       "  'along',\n",
       "  'with',\n",
       "  'rus',\n",
       "  'feingold',\n",
       "  'some',\n",
       "  'of',\n",
       "  'the',\n",
       "  'toughest',\n",
       "  'ethic',\n",
       "  'reform',\n",
       "  'since',\n",
       "  'watergate'],\n",
       " ['however',\n",
       "  'it',\n",
       "  'took',\n",
       "  '19.5',\n",
       "  'million',\n",
       "  'in',\n",
       "  'oregon',\n",
       "  'lottery',\n",
       "  'fund',\n",
       "  'for',\n",
       "  'the',\n",
       "  'port',\n",
       "  'of',\n",
       "  'newport',\n",
       "  'to',\n",
       "  'eventually',\n",
       "  'land',\n",
       "  'the',\n",
       "  'new',\n",
       "  'noaa',\n",
       "  'marine',\n",
       "  'operation',\n",
       "  'center-pacific'],\n",
       " ['say',\n",
       "  'gop',\n",
       "  'primary',\n",
       "  'opponent',\n",
       "  'glenn',\n",
       "  'grothman',\n",
       "  'and',\n",
       "  'joe',\n",
       "  'leibham',\n",
       "  'cast',\n",
       "  'a',\n",
       "  'compromise',\n",
       "  'vote',\n",
       "  'that',\n",
       "  'cost',\n",
       "  '788',\n",
       "  'million',\n",
       "  'in',\n",
       "  'higher',\n",
       "  'electricity',\n",
       "  'cost']]"
      ]
     },
     "execution_count": 17,
     "metadata": {},
     "output_type": "execute_result"
    }
   ],
   "source": [
    "corpus = df_5class['Text'].tolist()\n",
    "bow = [nlp.extract_bow_from_raw_text(row) for row in corpus]\n",
    "bow[:10]"
   ]
  },
  {
   "cell_type": "code",
   "execution_count": null,
   "metadata": {},
   "outputs": [],
   "source": [
    "size = 100\n",
    "\n",
    "model = gensim.models.Word2Vec(bow, min_count = 1,  \n",
    "                              size = size, window = 5, seed=2) "
   ]
  },
  {
   "cell_type": "code",
   "execution_count": null,
   "metadata": {},
   "outputs": [],
   "source": [
    "model.wv.vocab"
   ]
  },
  {
   "cell_type": "code",
   "execution_count": null,
   "metadata": {},
   "outputs": [],
   "source": [
    "model.wv['health']"
   ]
  },
  {
   "cell_type": "code",
   "execution_count": null,
   "metadata": {},
   "outputs": [],
   "source": [
    "corpus_vec = np.zeros((len(bow),size))\n",
    "\n",
    "for i, row in enumerate(bow):\n",
    "    row_vec = np.zeros(size)\n",
    "    for word in row:\n",
    "        row_vec += model.wv[word]\n",
    "    \n",
    "    corpus_vec[i] = row_vec"
   ]
  },
  {
   "cell_type": "code",
   "execution_count": null,
   "metadata": {},
   "outputs": [],
   "source": [
    "min(len(ele) for ele in bow), max(len(ele) for ele in bow) "
   ]
  },
  {
   "cell_type": "code",
   "execution_count": null,
   "metadata": {},
   "outputs": [],
   "source": [
    "lst = [len(ele) for ele in bow]\n",
    "np.median(lst)"
   ]
  },
  {
   "cell_type": "code",
   "execution_count": null,
   "metadata": {},
   "outputs": [],
   "source": [
    "corpus_vec\n"
   ]
  },
  {
   "cell_type": "code",
   "execution_count": 42,
   "metadata": {},
   "outputs": [],
   "source": [
    "scores = []\n",
    "\n",
    "# bow_train, bow_test, y_train, y_test = train_test_split(bow, y.values,\n",
    "#                                                             test_size=0.2,\n",
    "#                                                             stratify=y,\n",
    "#                                                             random_state=42)\n",
    "\n",
    "sizes = range(10, 121, 10)\n",
    "for size in sizes:\n",
    "    vec_train, vec_test = nlp.word_embed(bow_train, bow_test, size)\n",
    "    rf = RandomForestClassifier(max_depth=10).fit(vec_train, y_train)\n",
    "    scores.append(f1_score(y_test, rf.predict(vec_test), average='weighted'))"
   ]
  },
  {
   "cell_type": "code",
   "execution_count": 43,
   "metadata": {},
   "outputs": [
    {
     "data": {
      "image/png": "[encoded data removed]",
      "text/plain": [
       "<Figure size 432x288 with 1 Axes>"
      ]
     },
     "metadata": {},
     "output_type": "display_data"
    }
   ],
   "source": [
    "fig, ax = plt.subplots()\n",
    "\n",
    "ax.plot(sizes, scores)\n",
    "ax.set_xlabel('Sizes')\n",
    "ax.set_ylabel('Test Score')\n",
    "ax.set_title(\"RF scores by Vector Sizes\")\n",
    "plt.savefig('../images/wv_size_tuning2.png');"
   ]
  },
  {
   "cell_type": "code",
   "execution_count": null,
   "metadata": {},
   "outputs": [],
   "source": [
    "scores"
   ]
  },
  {
   "cell_type": "code",
   "execution_count": 26,
   "metadata": {},
   "outputs": [
    {
     "data": {
      "text/plain": [
       "0.6767118619222381"
      ]
     },
     "execution_count": 26,
     "metadata": {},
     "output_type": "execute_result"
    }
   ],
   "source": [
    "from sklearn.metrics.pairwise import cosine_similarity\n",
    "\n",
    "vec_train, vec_test = nlp.word_embed(bow_train, bow_test, 50)\n",
    "\n",
    "\n",
    "vec_train.shape\n",
    "cosim = cosine_similarity(vec_train[5].reshape(1,-1), vec_train)\n",
    "\n",
    "np.min(cosim)\n",
    "\n"
   ]
  },
  {
   "cell_type": "code",
   "execution_count": 27,
   "metadata": {},
   "outputs": [
    {
     "data": {
      "text/plain": [
       "3638"
      ]
     },
     "execution_count": 27,
     "metadata": {},
     "output_type": "execute_result"
    }
   ],
   "source": [
    "np.argmin(cosim)"
   ]
  },
  {
   "cell_type": "code",
   "execution_count": 29,
   "metadata": {},
   "outputs": [
    {
     "name": "stdout",
     "output_type": "stream",
     "text": [
      "['under', 'president', 'george', 'w.', 'bush', 'we', 'added', '4.9', 'trillion', 'to', 'the', 'debt', 'under', 'president', 'obama', 'weve', 'added', '6.5', 'trillion', 'to', 'the', 'debt']\n",
      "['lee', 'zeldin', 'missed', '2/3rds', 'of', 'veteran', 'affair', 'hearing']\n"
     ]
    }
   ],
   "source": [
    "print(bow_train[5])\n",
    "print(bow_train[np.argmin(cosim)])"
   ]
  },
  {
   "cell_type": "code",
   "execution_count": 30,
   "metadata": {},
   "outputs": [
    {
     "data": {
      "text/plain": [
       "(1, 7520)"
      ]
     },
     "execution_count": 30,
     "metadata": {},
     "output_type": "execute_result"
    }
   ],
   "source": [
    "cosim.shape"
   ]
  },
  {
   "cell_type": "code",
   "execution_count": 31,
   "metadata": {},
   "outputs": [
    {
     "data": {
      "text/plain": [
       "(array([  1.,   1.,   0.,   0.,   0.,   4.,   3.,   3.,   8.,   1.,   3.,\n",
       "         13.,  21.,   8.,  12.,  24.,  32.,  37.,  32.,  58.,  63.,  77.,\n",
       "         75.,  71.,  96., 110., 155., 141., 165., 160., 198., 230., 276.,\n",
       "        307., 295., 354., 359., 365., 383., 397., 386., 417., 387., 366.,\n",
       "        402., 353., 254., 162., 136., 119.]),\n",
       " array([0.67671186, 0.68317762, 0.68964339, 0.69610915, 0.70257491,\n",
       "        0.70904068, 0.71550644, 0.7219722 , 0.72843796, 0.73490373,\n",
       "        0.74136949, 0.74783525, 0.75430102, 0.76076678, 0.76723254,\n",
       "        0.7736983 , 0.78016407, 0.78662983, 0.79309559, 0.79956135,\n",
       "        0.80602712, 0.81249288, 0.81895864, 0.82542441, 0.83189017,\n",
       "        0.83835593, 0.84482169, 0.85128746, 0.85775322, 0.86421898,\n",
       "        0.87068474, 0.87715051, 0.88361627, 0.89008203, 0.8965478 ,\n",
       "        0.90301356, 0.90947932, 0.91594508, 0.92241085, 0.92887661,\n",
       "        0.93534237, 0.94180814, 0.9482739 , 0.95473966, 0.96120542,\n",
       "        0.96767119, 0.97413695, 0.98060271, 0.98706847, 0.99353424,\n",
       "        1.        ]),\n",
       " <a list of 50 Patch objects>)"
      ]
     },
     "execution_count": 31,
     "metadata": {},
     "output_type": "execute_result"
    },
    {
     "data": {
      "image/png": "[encoded data removed]",
      "text/plain": [
       "<Figure size 432x288 with 1 Axes>"
      ]
     },
     "metadata": {},
     "output_type": "display_data"
    }
   ],
   "source": [
    "plt.hist(cosim.flatten(), bins=50)"
   ]
  },
  {
   "cell_type": "code",
   "execution_count": null,
   "metadata": {},
   "outputs": [],
   "source": [
    "vec_train.shape\n",
    "cosim = cosine_similarity(vec_train[4781].reshape(1,-1), vec_train)\n",
    "\n",
    "np.min(cosim)\n",
    "\n",
    "print(bow_train[4781])\n",
    "print(bow_train[np.argmin(cosim)])\n"
   ]
  },
  {
   "cell_type": "code",
   "execution_count": null,
   "metadata": {},
   "outputs": [],
   "source": [
    "np.min(cosim)"
   ]
  },
  {
   "cell_type": "code",
   "execution_count": null,
   "metadata": {},
   "outputs": [],
   "source": [
    "cosim"
   ]
  },
  {
   "cell_type": "code",
   "execution_count": null,
   "metadata": {},
   "outputs": [],
   "source": [
    "np.argwhere(cosim.flatten() < 0.50)"
   ]
  },
  {
   "cell_type": "code",
   "execution_count": 12,
   "metadata": {},
   "outputs": [
    {
     "name": "stdout",
     "output_type": "stream",
     "text": [
      "['what', 'they', 'will', 'do', 'is', 'socialized', 'medicine']\n",
      "['on', 'his', 'definition', 'of', 'taker', 'and', 'maker']\n",
      "['on', 'torture']\n"
     ]
    }
   ],
   "source": [
    "print(bow_train[393])\n",
    "print(bow_train[404])\n",
    "print(bow_train[6134])"
   ]
  },
  {
   "cell_type": "code",
   "execution_count": null,
   "metadata": {},
   "outputs": [],
   "source": [
    "len(bow_train), len(bow_test), len(y_train), len(y_test)"
   ]
  },
  {
   "cell_type": "code",
   "execution_count": 10,
   "metadata": {},
   "outputs": [
    {
     "data": {
      "text/plain": [
       "array([[ 0.12669568,  0.09158998,  0.06508244, ...,  0.0075    ,\n",
       "        -0.02861756, -0.00733335],\n",
       "       [ 0.04781712,  0.02683211,  0.01572067, ...,  0.00882848,\n",
       "        -0.00612264, -0.01270581],\n",
       "       [ 0.13529234,  0.05345731, -0.00427828, ...,  0.02890855,\n",
       "         0.02393914, -0.01769458],\n",
       "       ...,\n",
       "       [ 0.05508591,  0.09468066,  0.15406227, ..., -0.05083873,\n",
       "        -0.14477847, -0.04628928],\n",
       "       [ 0.07893225,  0.08227078,  0.11224994, ..., -0.03870117,\n",
       "        -0.11320939, -0.06138254],\n",
       "       [ 0.11790754,  0.06566706,  0.03535857, ...,  0.01544638,\n",
       "        -0.0090889 , -0.00781493]])"
      ]
     },
     "execution_count": 10,
     "metadata": {},
     "output_type": "execute_result"
    }
   ],
   "source": [
    "vec_train"
   ]
  },
  {
   "cell_type": "code",
   "execution_count": 55,
   "metadata": {},
   "outputs": [
    {
     "name": "stdout",
     "output_type": "stream",
     "text": [
      "True headline: ['it', 'is', 'legal', 'in', 'ohio', 'to', 'fire', 'an', 'employee', 'or', 'evict', 'a', 'tenant', 'just', 'for', 'being', 'gay']\n",
      "Least similar headline: ['say', 'russian', 'president', 'vladimir', 'putin', 'call', 'me', 'brilliant']\n"
     ]
    }
   ],
   "source": [
    "# vec_train.shape\n",
    "# cosim = cosine_similarity(vec_train[2].reshape(1,-1), vec_train)\n",
    "\n",
    "# np.min(cosim)\n",
    "\n",
    "print(\"True headline:\", bow_train[2])\n",
    "\n",
    "print(\"Least similar headline:\", bow_train[np.argmin(cosim)])\n"
   ]
  },
  {
   "cell_type": "code",
   "execution_count": 45,
   "metadata": {},
   "outputs": [
    {
     "data": {
      "text/plain": [
       "0.6410284546700511"
      ]
     },
     "execution_count": 45,
     "metadata": {},
     "output_type": "execute_result"
    }
   ],
   "source": [
    "np.min(cosim)"
   ]
  },
  {
   "cell_type": "code",
   "execution_count": 44,
   "metadata": {},
   "outputs": [
    {
     "data": {
      "image/png": "[encoded data removed]",
      "text/plain": [
       "<Figure size 432x288 with 1 Axes>"
      ]
     },
     "metadata": {},
     "output_type": "display_data"
    }
   ],
   "source": [
    "plt.hist(cosim.flatten(), bins=50);"
   ]
  },
  {
   "cell_type": "code",
   "execution_count": 11,
   "metadata": {},
   "outputs": [
    {
     "data": {
      "text/plain": [
       "array([ 0.15387779,  0.09099179,  0.01542422,  0.04915265, -0.00807337,\n",
       "       -0.0125291 ,  0.22850461,  0.08438936, -0.10457438, -0.18082794,\n",
       "       -0.03102874,  0.12956289, -0.037223  ,  0.01191128, -0.19246735,\n",
       "        0.01682936, -0.11098184,  0.18198082, -0.14388689,  0.05905703,\n",
       "        0.0049264 ,  0.21443357, -0.13793729,  0.15499544,  0.05502434,\n",
       "       -0.19111331, -0.11518024, -0.14780354, -0.01914526, -0.16740444,\n",
       "        0.08968242, -0.04792315,  0.0226531 ,  0.02685931,  0.21508262,\n",
       "       -0.03750409,  0.06123308,  0.03428072, -0.16154924, -0.00123334,\n",
       "       -0.08547694, -0.14311709,  0.04892588,  0.17936738, -0.12956878,\n",
       "       -0.07732314,  0.00796394,  0.15045984,  0.18928983,  0.13921283,\n",
       "       -0.14779373,  0.13582174, -0.01305655,  0.05842284, -0.05630093,\n",
       "       -0.05325761,  0.29250469, -0.04287539,  0.09056727, -0.12749644,\n",
       "       -0.01932551,  0.053514  ,  0.07148507, -0.26103665, -0.03652507,\n",
       "       -0.09125883,  0.01611097, -0.04010549,  0.20528275, -0.05905632,\n",
       "        0.0744953 , -0.04166345, -0.09534264, -0.17573366,  0.17124116,\n",
       "       -0.07814284,  0.05050109,  0.13241149, -0.15991138, -0.22336821,\n",
       "        0.0326199 ,  0.12436868, -0.125441  ,  0.06237021,  0.18077565,\n",
       "        0.20377371,  0.13960898, -0.11538054,  0.03563823, -0.19080094,\n",
       "       -0.09351441,  0.11857902,  0.05828264,  0.06449889, -0.04063661,\n",
       "       -0.14081829,  0.04894556,  0.02844715,  0.03353479, -0.00111529])"
      ]
     },
     "execution_count": 11,
     "metadata": {},
     "output_type": "execute_result"
    }
   ],
   "source": [
    "vec_train[393]"
   ]
  },
  {
   "cell_type": "code",
   "execution_count": null,
   "metadata": {},
   "outputs": [],
   "source": [
    "vec_train[4781]"
   ]
  },
  {
   "cell_type": "code",
   "execution_count": 40,
   "metadata": {},
   "outputs": [
    {
     "data": {
      "text/plain": [
       "array([[   2],\n",
       "       [   5],\n",
       "       [   9],\n",
       "       ...,\n",
       "       [7508],\n",
       "       [7510],\n",
       "       [7515]])"
      ]
     },
     "execution_count": 40,
     "metadata": {},
     "output_type": "execute_result"
    }
   ],
   "source": [
    "np.argwhere(y_train==5)"
   ]
  },
  {
   "cell_type": "code",
   "execution_count": 52,
   "metadata": {},
   "outputs": [
    {
     "data": {
      "text/html": [
       "<div>\n",
       "<style scoped>\n",
       "    .dataframe tbody tr th:only-of-type {\n",
       "        vertical-align: middle;\n",
       "    }\n",
       "\n",
       "    .dataframe tbody tr th {\n",
       "        vertical-align: top;\n",
       "    }\n",
       "\n",
       "    .dataframe thead th {\n",
       "        text-align: right;\n",
       "    }\n",
       "</style>\n",
       "<table border=\"1\" class=\"dataframe\">\n",
       "  <thead>\n",
       "    <tr style=\"text-align: right;\">\n",
       "      <th></th>\n",
       "      <th>0</th>\n",
       "      <th>1</th>\n",
       "      <th>2</th>\n",
       "      <th>3</th>\n",
       "      <th>5</th>\n",
       "    </tr>\n",
       "  </thead>\n",
       "  <tbody>\n",
       "    <tr>\n",
       "      <th>0</th>\n",
       "      <td>0</td>\n",
       "      <td>1</td>\n",
       "      <td>0</td>\n",
       "      <td>0</td>\n",
       "      <td>0</td>\n",
       "    </tr>\n",
       "    <tr>\n",
       "      <th>1</th>\n",
       "      <td>0</td>\n",
       "      <td>0</td>\n",
       "      <td>1</td>\n",
       "      <td>0</td>\n",
       "      <td>0</td>\n",
       "    </tr>\n",
       "    <tr>\n",
       "      <th>2</th>\n",
       "      <td>0</td>\n",
       "      <td>0</td>\n",
       "      <td>0</td>\n",
       "      <td>1</td>\n",
       "      <td>0</td>\n",
       "    </tr>\n",
       "    <tr>\n",
       "      <th>3</th>\n",
       "      <td>0</td>\n",
       "      <td>1</td>\n",
       "      <td>0</td>\n",
       "      <td>0</td>\n",
       "      <td>0</td>\n",
       "    </tr>\n",
       "    <tr>\n",
       "      <th>4</th>\n",
       "      <td>0</td>\n",
       "      <td>0</td>\n",
       "      <td>1</td>\n",
       "      <td>0</td>\n",
       "      <td>0</td>\n",
       "    </tr>\n",
       "    <tr>\n",
       "      <th>...</th>\n",
       "      <td>...</td>\n",
       "      <td>...</td>\n",
       "      <td>...</td>\n",
       "      <td>...</td>\n",
       "      <td>...</td>\n",
       "    </tr>\n",
       "    <tr>\n",
       "      <th>10234</th>\n",
       "      <td>0</td>\n",
       "      <td>0</td>\n",
       "      <td>1</td>\n",
       "      <td>0</td>\n",
       "      <td>0</td>\n",
       "    </tr>\n",
       "    <tr>\n",
       "      <th>10235</th>\n",
       "      <td>0</td>\n",
       "      <td>0</td>\n",
       "      <td>0</td>\n",
       "      <td>1</td>\n",
       "      <td>0</td>\n",
       "    </tr>\n",
       "    <tr>\n",
       "      <th>10236</th>\n",
       "      <td>0</td>\n",
       "      <td>0</td>\n",
       "      <td>0</td>\n",
       "      <td>1</td>\n",
       "      <td>0</td>\n",
       "    </tr>\n",
       "    <tr>\n",
       "      <th>10237</th>\n",
       "      <td>0</td>\n",
       "      <td>0</td>\n",
       "      <td>1</td>\n",
       "      <td>0</td>\n",
       "      <td>0</td>\n",
       "    </tr>\n",
       "    <tr>\n",
       "      <th>10238</th>\n",
       "      <td>0</td>\n",
       "      <td>1</td>\n",
       "      <td>0</td>\n",
       "      <td>0</td>\n",
       "      <td>0</td>\n",
       "    </tr>\n",
       "  </tbody>\n",
       "</table>\n",
       "<p>9401 rows × 5 columns</p>\n",
       "</div>"
      ],
      "text/plain": [
       "       0  1  2  3  5\n",
       "0      0  1  0  0  0\n",
       "1      0  0  1  0  0\n",
       "2      0  0  0  1  0\n",
       "3      0  1  0  0  0\n",
       "4      0  0  1  0  0\n",
       "...   .. .. .. .. ..\n",
       "10234  0  0  1  0  0\n",
       "10235  0  0  0  1  0\n",
       "10236  0  0  0  1  0\n",
       "10237  0  0  1  0  0\n",
       "10238  0  1  0  0  0\n",
       "\n",
       "[9401 rows x 5 columns]"
      ]
     },
     "execution_count": 52,
     "metadata": {},
     "output_type": "execute_result"
    }
   ],
   "source": [
    "pd.get_dummies(y)"
   ]
  },
  {
   "cell_type": "code",
   "execution_count": null,
   "metadata": {},
   "outputs": [],
   "source": []
  }
 ],
 "metadata": {
  "kernelspec": {
   "display_name": "Python 3",
   "language": "python",
   "name": "python3"
  },
  "language_info": {
   "codemirror_mode": {
    "name": "ipython",
    "version": 3
   },
   "file_extension": ".py",
   "mimetype": "text/x-python",
   "name": "python",
   "nbconvert_exporter": "python",
   "pygments_lexer": "ipython3",
   "version": "3.7.6"
  }
 },
 "nbformat": 4,
 "nbformat_minor": 4
}
