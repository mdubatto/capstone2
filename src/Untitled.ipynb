{
 "cells": [
  {
   "cell_type": "code",
   "execution_count": 1,
   "metadata": {},
   "outputs": [],
   "source": [
    "import pandas as pd\n",
    "import numpy as np\n",
    "import matplotlib.pyplot as plt\n",
    "from matplotlib import style, rcParams\n",
    "from sklearn.feature_extraction.text import TfidfVectorizer\n",
    "from nltk.corpus import stopwords\n",
    "from sklearn.pipeline import Pipeline\n",
    "from sklearn.decomposition import NMF, PCA\n",
    "from sklearn.model_selection import train_test_split, RandomizedSearchCV, GridSearchCV, cross_validate\n",
    "from sklearn.ensemble import GradientBoostingClassifier, RandomForestClassifier\n",
    "from sklearn.metrics import classification_report, confusion_matrix, f1_score\n",
    "from sklearn.metrics.pairwise import cosine_similarity\n",
    "import xgboost.sklearn as xgb\n",
    "import xgboost as x\n",
    "import gensim\n",
    "import seaborn as sns\n",
    "import pickle\n",
    "import nlp_pipeline as nlp\n",
    "import ml_functions as ml\n",
    "# %load_ext autoreload\n",
    "%autoreload 2\n",
    "style.use('ggplot')\n",
    "rcParams['font.size'] = 14\n",
    "rcParams['legend.fontsize'] = 'small'\n",
    "rcParams['figure.titlesize'] = 'large'"
   ]
  },
  {
   "cell_type": "code",
   "execution_count": 2,
   "metadata": {},
   "outputs": [
    {
     "data": {
      "text/html": [
       "<div>\n",
       "<style scoped>\n",
       "    .dataframe tbody tr th:only-of-type {\n",
       "        vertical-align: middle;\n",
       "    }\n",
       "\n",
       "    .dataframe tbody tr th {\n",
       "        vertical-align: top;\n",
       "    }\n",
       "\n",
       "    .dataframe thead th {\n",
       "        text-align: right;\n",
       "    }\n",
       "</style>\n",
       "<table border=\"1\" class=\"dataframe\">\n",
       "  <thead>\n",
       "    <tr style=\"text-align: right;\">\n",
       "      <th></th>\n",
       "      <th>Labels</th>\n",
       "      <th>Text</th>\n",
       "      <th>Text_Tag</th>\n",
       "      <th>target</th>\n",
       "    </tr>\n",
       "  </thead>\n",
       "  <tbody>\n",
       "    <tr>\n",
       "      <th>0</th>\n",
       "      <td>1</td>\n",
       "      <td>Says the Annies List political group supports ...</td>\n",
       "      <td>abortion</td>\n",
       "      <td>1</td>\n",
       "    </tr>\n",
       "    <tr>\n",
       "      <th>1</th>\n",
       "      <td>2</td>\n",
       "      <td>When did the decline of coal start? It started...</td>\n",
       "      <td>energy,history,job-accomplishments</td>\n",
       "      <td>1</td>\n",
       "    </tr>\n",
       "    <tr>\n",
       "      <th>2</th>\n",
       "      <td>3</td>\n",
       "      <td>Hillary Clinton agrees with John McCain \"by vo...</td>\n",
       "      <td>foreign-policy</td>\n",
       "      <td>0</td>\n",
       "    </tr>\n",
       "    <tr>\n",
       "      <th>3</th>\n",
       "      <td>1</td>\n",
       "      <td>Health care reform legislation is likely to ma...</td>\n",
       "      <td>health-care</td>\n",
       "      <td>1</td>\n",
       "    </tr>\n",
       "    <tr>\n",
       "      <th>4</th>\n",
       "      <td>2</td>\n",
       "      <td>The economic turnaround started at the end of ...</td>\n",
       "      <td>economy,jobs</td>\n",
       "      <td>1</td>\n",
       "    </tr>\n",
       "    <tr>\n",
       "      <th>5</th>\n",
       "      <td>5</td>\n",
       "      <td>The Chicago Bears have had more starting quart...</td>\n",
       "      <td>education</td>\n",
       "      <td>0</td>\n",
       "    </tr>\n",
       "    <tr>\n",
       "      <th>6</th>\n",
       "      <td>0</td>\n",
       "      <td>Jim Dunnam has not lived in the district he re...</td>\n",
       "      <td>candidates-biography</td>\n",
       "      <td>1</td>\n",
       "    </tr>\n",
       "    <tr>\n",
       "      <th>7</th>\n",
       "      <td>2</td>\n",
       "      <td>I'm the only person on this stage who has work...</td>\n",
       "      <td>ethics</td>\n",
       "      <td>1</td>\n",
       "    </tr>\n",
       "    <tr>\n",
       "      <th>8</th>\n",
       "      <td>2</td>\n",
       "      <td>However, it took $19.5 million in Oregon Lotte...</td>\n",
       "      <td>jobs</td>\n",
       "      <td>1</td>\n",
       "    </tr>\n",
       "    <tr>\n",
       "      <th>9</th>\n",
       "      <td>3</td>\n",
       "      <td>Says GOP primary opponents Glenn Grothman and ...</td>\n",
       "      <td>energy,message-machine-2014,voting-record</td>\n",
       "      <td>0</td>\n",
       "    </tr>\n",
       "  </tbody>\n",
       "</table>\n",
       "</div>"
      ],
      "text/plain": [
       "   Labels                                               Text  \\\n",
       "0       1  Says the Annies List political group supports ...   \n",
       "1       2  When did the decline of coal start? It started...   \n",
       "2       3  Hillary Clinton agrees with John McCain \"by vo...   \n",
       "3       1  Health care reform legislation is likely to ma...   \n",
       "4       2  The economic turnaround started at the end of ...   \n",
       "5       5  The Chicago Bears have had more starting quart...   \n",
       "6       0  Jim Dunnam has not lived in the district he re...   \n",
       "7       2  I'm the only person on this stage who has work...   \n",
       "8       2  However, it took $19.5 million in Oregon Lotte...   \n",
       "9       3  Says GOP primary opponents Glenn Grothman and ...   \n",
       "\n",
       "                                    Text_Tag  target  \n",
       "0                                   abortion       1  \n",
       "1         energy,history,job-accomplishments       1  \n",
       "2                             foreign-policy       0  \n",
       "3                                health-care       1  \n",
       "4                               economy,jobs       1  \n",
       "5                                  education       0  \n",
       "6                       candidates-biography       1  \n",
       "7                                     ethics       1  \n",
       "8                                       jobs       1  \n",
       "9  energy,message-machine-2014,voting-record       0  "
      ]
     },
     "execution_count": 2,
     "metadata": {},
     "output_type": "execute_result"
    }
   ],
   "source": [
    "df = pd.read_csv('../data/train.csv')\n",
    "df = df[df['Labels'] != 4].copy()\n",
    "df['target'] = np.where((df['Labels'] == 3) | (df['Labels'] == 5), 0, 1)\n",
    "df.head(10)"
   ]
  },
  {
   "cell_type": "code",
   "execution_count": 24,
   "metadata": {},
   "outputs": [
    {
     "data": {
      "text/html": [
       "<div>\n",
       "<style scoped>\n",
       "    .dataframe tbody tr th:only-of-type {\n",
       "        vertical-align: middle;\n",
       "    }\n",
       "\n",
       "    .dataframe tbody tr th {\n",
       "        vertical-align: top;\n",
       "    }\n",
       "\n",
       "    .dataframe thead th {\n",
       "        text-align: right;\n",
       "    }\n",
       "</style>\n",
       "<table border=\"1\" class=\"dataframe\">\n",
       "  <thead>\n",
       "    <tr style=\"text-align: right;\">\n",
       "      <th></th>\n",
       "      <th>target</th>\n",
       "      <th>Text</th>\n",
       "    </tr>\n",
       "  </thead>\n",
       "  <tbody>\n",
       "    <tr>\n",
       "      <th>0</th>\n",
       "      <td>1</td>\n",
       "      <td>Says the Annies List political group supports ...</td>\n",
       "    </tr>\n",
       "    <tr>\n",
       "      <th>1</th>\n",
       "      <td>1</td>\n",
       "      <td>When did the decline of coal start? It started...</td>\n",
       "    </tr>\n",
       "    <tr>\n",
       "      <th>2</th>\n",
       "      <td>0</td>\n",
       "      <td>Hillary Clinton agrees with John McCain \"by vo...</td>\n",
       "    </tr>\n",
       "    <tr>\n",
       "      <th>3</th>\n",
       "      <td>1</td>\n",
       "      <td>Health care reform legislation is likely to ma...</td>\n",
       "    </tr>\n",
       "    <tr>\n",
       "      <th>4</th>\n",
       "      <td>1</td>\n",
       "      <td>The economic turnaround started at the end of ...</td>\n",
       "    </tr>\n",
       "    <tr>\n",
       "      <th>5</th>\n",
       "      <td>0</td>\n",
       "      <td>The Chicago Bears have had more starting quart...</td>\n",
       "    </tr>\n",
       "    <tr>\n",
       "      <th>6</th>\n",
       "      <td>1</td>\n",
       "      <td>Jim Dunnam has not lived in the district he re...</td>\n",
       "    </tr>\n",
       "    <tr>\n",
       "      <th>7</th>\n",
       "      <td>1</td>\n",
       "      <td>I'm the only person on this stage who has work...</td>\n",
       "    </tr>\n",
       "    <tr>\n",
       "      <th>8</th>\n",
       "      <td>1</td>\n",
       "      <td>However, it took $19.5 million in Oregon Lotte...</td>\n",
       "    </tr>\n",
       "    <tr>\n",
       "      <th>9</th>\n",
       "      <td>0</td>\n",
       "      <td>Says GOP primary opponents Glenn Grothman and ...</td>\n",
       "    </tr>\n",
       "  </tbody>\n",
       "</table>\n",
       "</div>"
      ],
      "text/plain": [
       "   target                                               Text\n",
       "0       1  Says the Annies List political group supports ...\n",
       "1       1  When did the decline of coal start? It started...\n",
       "2       0  Hillary Clinton agrees with John McCain \"by vo...\n",
       "3       1  Health care reform legislation is likely to ma...\n",
       "4       1  The economic turnaround started at the end of ...\n",
       "5       0  The Chicago Bears have had more starting quart...\n",
       "6       1  Jim Dunnam has not lived in the district he re...\n",
       "7       1  I'm the only person on this stage who has work...\n",
       "8       1  However, it took $19.5 million in Oregon Lotte...\n",
       "9       0  Says GOP primary opponents Glenn Grothman and ..."
      ]
     },
     "execution_count": 24,
     "metadata": {},
     "output_type": "execute_result"
    }
   ],
   "source": [
    "df[['target','Text']].head(10)"
   ]
  },
  {
   "cell_type": "code",
   "execution_count": 3,
   "metadata": {},
   "outputs": [
    {
     "data": {
      "image/png": "[encoded data removed]",
      "text/plain": [
       "<Figure size 432x288 with 1 Axes>"
      ]
     },
     "metadata": {},
     "output_type": "display_data"
    }
   ],
   "source": [
    "df.target.value_counts().plot(kind='bar')\n",
    "plt.xticks(df.target.unique(), ['Not Fake','Fake'])\n",
    "plt.title('Class Counts');"
   ]
  },
  {
   "cell_type": "code",
   "execution_count": 4,
   "metadata": {},
   "outputs": [],
   "source": [
    "fname = '../models/pca_5c_maxfeats.sav'\n",
    "pca_loaded = pickle.load(open(fname, 'rb'))"
   ]
  },
  {
   "cell_type": "code",
   "execution_count": 5,
   "metadata": {},
   "outputs": [
    {
     "data": {
      "image/png": "[encoded data removed]",
      "text/plain": [
       "<Figure size 576x432 with 1 Axes>"
      ]
     },
     "metadata": {},
     "output_type": "display_data"
    }
   ],
   "source": [
    "comp = ml.elbow_plot(pca_loaded)"
   ]
  },
  {
   "cell_type": "code",
   "execution_count": 6,
   "metadata": {},
   "outputs": [],
   "source": [
    "X = df['Text']\n",
    "y = df['target']\n",
    "\n",
    "X_train, X_test, y_train, y_test = train_test_split(X, y, test_size=0.2, stratify=y, random_state=42)"
   ]
  },
  {
   "cell_type": "code",
   "execution_count": 7,
   "metadata": {},
   "outputs": [],
   "source": [
    "stopwords_ = set(stopwords.words('english'))\n",
    "\n",
    "tfidf = TfidfVectorizer(stop_words=stopwords_, max_features=5000)\n",
    "words_train = tfidf.fit_transform(X_train).toarray()\n",
    "words_test = tfidf.transform(X_test).toarray()\n",
    "feats = tfidf.get_feature_names()"
   ]
  },
  {
   "cell_type": "code",
   "execution_count": 8,
   "metadata": {},
   "outputs": [],
   "source": [
    "words_tr_pca = pca_loaded.transform(words_train)\n",
    "words_tst_pca = pca_loaded.transform(words_test)"
   ]
  },
  {
   "cell_type": "code",
   "execution_count": 9,
   "metadata": {},
   "outputs": [],
   "source": [
    "X_pca_train = words_tr_pca[:,:comp]\n",
    "X_pca_test = words_tst_pca[:,:comp]"
   ]
  },
  {
   "cell_type": "code",
   "execution_count": 10,
   "metadata": {},
   "outputs": [
    {
     "data": {
      "text/plain": [
       "((7520, 2268), (1881, 2268))"
      ]
     },
     "execution_count": 10,
     "metadata": {},
     "output_type": "execute_result"
    }
   ],
   "source": [
    "X_pca_train.shape, X_pca_test.shape"
   ]
  },
  {
   "cell_type": "code",
   "execution_count": 11,
   "metadata": {},
   "outputs": [
    {
     "data": {
      "text/plain": [
       "{'max_depth': 10, 'n_estimators': 350}"
      ]
     },
     "execution_count": 11,
     "metadata": {},
     "output_type": "execute_result"
    }
   ],
   "source": [
    "params = {\n",
    "            'n_estimators': [200,250,300,350],\n",
    "#             'max_features': [40,50,60],\n",
    "            'max_depth': [5,10,15,20]\n",
    "         }\n",
    "\n",
    "rf_be = GridSearchCV(RandomForestClassifier(class_weight='balanced', n_jobs=-1, random_state=6), \n",
    "                           params, \n",
    "#                            random_state=0, \n",
    "                           scoring='roc_auc',\n",
    "                           return_train_score=True)\n",
    "\n",
    "search = rf_be.fit(X_pca_train, y_train)\n",
    "search.best_params_"
   ]
  },
  {
   "cell_type": "code",
   "execution_count": 12,
   "metadata": {},
   "outputs": [
    {
     "name": "stdout",
     "output_type": "stream",
     "text": [
      "Train:\n",
      "              precision    recall  f1-score   support\n",
      "\n",
      "           0       1.00      1.00      1.00      2910\n",
      "           1       1.00      1.00      1.00      4610\n",
      "\n",
      "    accuracy                           1.00      7520\n",
      "   macro avg       1.00      1.00      1.00      7520\n",
      "weighted avg       1.00      1.00      1.00      7520\n",
      "\n",
      "[[2904    6]\n",
      " [   1 4609]]\n",
      "ROC AUC: 0.9999897876273752\n",
      "\n",
      "Test:\n",
      "              precision    recall  f1-score   support\n",
      "\n",
      "           0       0.50      0.08      0.14       728\n",
      "           1       0.62      0.95      0.75      1153\n",
      "\n",
      "    accuracy                           0.61      1881\n",
      "   macro avg       0.56      0.52      0.45      1881\n",
      "weighted avg       0.57      0.61      0.51      1881\n",
      "\n",
      "[[  61  667]\n",
      " [  62 1091]]\n",
      "ROC AUC: 0.6051449634493866\n"
     ]
    }
   ],
   "source": [
    "y_pred = search.predict(X_pca_test)\n",
    "y_proba = search.predict_proba(X_pca_test)[:,1]\n",
    "\n",
    "print('Train:')\n",
    "ml.get_scores(y_train, search.predict(X_pca_train), search.predict_proba(X_pca_train)[:,1])\n",
    "print('\\nTest:')\n",
    "ml.get_scores(y_test, y_pred, y_proba)"
   ]
  },
  {
   "cell_type": "code",
   "execution_count": 22,
   "metadata": {},
   "outputs": [
    {
     "name": "stdout",
     "output_type": "stream",
     "text": [
      "Num of n_estimators: 151\n",
      "\n",
      "Model Report\n",
      "              precision    recall  f1-score   support\n",
      "\n",
      "           0       0.62      0.82      0.71      2910\n",
      "           1       0.86      0.68      0.76      4610\n",
      "\n",
      "    accuracy                           0.74      7520\n",
      "   macro avg       0.74      0.75      0.73      7520\n",
      "weighted avg       0.77      0.74      0.74      7520\n",
      "\n",
      "AUC Score (Train): 0.8352317164985725\n"
     ]
    }
   ],
   "source": [
    "alg = xgb.XGBClassifier(\n",
    "                       n_estimators=500, \n",
    "                       learning_rate=0.01,\n",
    "                       max_depth=3,\n",
    "                       colsample_bytree=0.8,\n",
    "                       min_child_weight=3,\n",
    "                       gamma=0,\n",
    "                       subsample=0.8,\n",
    "                       scale_pos_weight=0.62,\n",
    "                       n_jobs=-1,\n",
    "                       seed=27)\n",
    "\n",
    "ml.modelfit(alg, X_pca_train, y_train)"
   ]
  },
  {
   "cell_type": "code",
   "execution_count": 21,
   "metadata": {},
   "outputs": [
    {
     "data": {
      "text/plain": [
       "{'colsample_bytree': 0.8,\n",
       " 'gamma': 0,\n",
       " 'max_depth': 3,\n",
       " 'min_child_weight': 3,\n",
       " 'n_estimators': 160,\n",
       " 'scale_pos_weight': 0.62,\n",
       " 'subsample': 0.8}"
      ]
     },
     "execution_count": 21,
     "metadata": {},
     "output_type": "execute_result"
    }
   ],
   "source": [
    "params = {\n",
    "             'max_depth': [3],    # d-6\n",
    "#             'reg_alpha': (0, 0.01),       # Lasso (L1) d-0\n",
    "#             'reg_lambda': (1, 5, 10),   # Ridge (L2)   d-1\n",
    "             'colsample_bytree': [0.8],\n",
    "             'gamma': [0],   # d-0\n",
    "             'min_child_weight': [3],   # d-1\n",
    "             'subsample': [0.8],  # d-1 ... do 0.5 or something in the middle\n",
    "             'n_estimators': [160],\n",
    "             'scale_pos_weight': [0.62]\n",
    "         }\n",
    "gb = xgb.XGBClassifier(learning_rate=0.01, n_jobs=-1)\n",
    "\n",
    "search = GridSearchCV(gb, \n",
    "                           params, \n",
    "#                            random_state=0, \n",
    "                           scoring='roc_auc',\n",
    "                           return_train_score=True)\n",
    "search.fit(X_pca_train, y_train)\n",
    "search.best_params_"
   ]
  },
  {
   "cell_type": "code",
   "execution_count": 22,
   "metadata": {},
   "outputs": [
    {
     "name": "stdout",
     "output_type": "stream",
     "text": [
      "Train:\n",
      "              precision    recall  f1-score   support\n",
      "\n",
      "           0       0.64      0.82      0.72      2910\n",
      "           1       0.86      0.70      0.77      4610\n",
      "\n",
      "    accuracy                           0.75      7520\n",
      "   macro avg       0.75      0.76      0.74      7520\n",
      "weighted avg       0.77      0.75      0.75      7520\n",
      "\n",
      "[[2387  523]\n",
      " [1372 3238]]\n",
      "ROC AUC: 0.8475543231135065\n",
      "\n",
      "Test:\n",
      "              precision    recall  f1-score   support\n",
      "\n",
      "           0       0.44      0.56      0.50       728\n",
      "           1       0.67      0.56      0.61      1153\n",
      "\n",
      "    accuracy                           0.56      1881\n",
      "   macro avg       0.56      0.56      0.55      1881\n",
      "weighted avg       0.58      0.56      0.56      1881\n",
      "\n",
      "[[410 318]\n",
      " [512 641]]\n",
      "ROC AUC: 0.5937437454133031\n"
     ]
    }
   ],
   "source": [
    "y_pred = search.predict(X_pca_test)\n",
    "y_proba = search.predict_proba(X_pca_test)[:,1]\n",
    "\n",
    "print('Train:')\n",
    "ml.get_scores(y_train, search.predict(X_pca_train), search.predict_proba(X_pca_train)[:,1])\n",
    "print('\\nTest:')\n",
    "ml.get_scores(y_test, y_pred, y_proba)"
   ]
  },
  {
   "cell_type": "code",
   "execution_count": 23,
   "metadata": {},
   "outputs": [
    {
     "data": {
      "image/png": "[encoded data removed]",
      "text/plain": [
       "<Figure size 432x288 with 2 Axes>"
      ]
     },
     "metadata": {},
     "output_type": "display_data"
    }
   ],
   "source": [
    "sns.heatmap(confusion_matrix(y_test, y_pred), annot=True, fmt='g', cmap='viridis')\n",
    "plt.xlabel('Predicted')\n",
    "plt.ylabel('True')\n",
    "plt.title('PCA + XGB Confusion Matrix');"
   ]
  },
  {
   "cell_type": "code",
   "execution_count": null,
   "metadata": {},
   "outputs": [],
   "source": []
  }
 ],
 "metadata": {
  "kernelspec": {
   "display_name": "Python 3",
   "language": "python",
   "name": "python3"
  },
  "language_info": {
   "codemirror_mode": {
    "name": "ipython",
    "version": 3
   },
   "file_extension": ".py",
   "mimetype": "text/x-python",
   "name": "python",
   "nbconvert_exporter": "python",
   "pygments_lexer": "ipython3",
   "version": "3.7.6"
  }
 },
 "nbformat": 4,
 "nbformat_minor": 4
}
