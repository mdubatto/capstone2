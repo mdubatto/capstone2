{
 "cells": [
  {
   "cell_type": "code",
   "execution_count": 1,
   "metadata": {},
   "outputs": [],
   "source": [
    "import pandas as pd\n",
    "import numpy as np\n",
    "import matplotlib.pyplot as plt\n",
    "from matplotlib import style, rcParams\n",
    "from sklearn.feature_extraction.text import TfidfVectorizer\n",
    "from nltk.corpus import stopwords\n",
    "from sklearn.pipeline import Pipeline\n",
    "from sklearn.decomposition import NMF, PCA\n",
    "from sklearn.model_selection import train_test_split, RandomizedSearchCV, GridSearchCV, cross_validate\n",
    "from sklearn.ensemble import GradientBoostingClassifier, RandomForestClassifier\n",
    "from sklearn.metrics import classification_report, confusion_matrix, f1_score\n",
    "import xgboost.sklearn as xgb\n",
    "import xgboost as x\n",
    "import gensim\n",
    "import seaborn as sns\n",
    "import pickle\n",
    "import nlp_pipeline as nlp\n",
    "\n",
    "style.use('ggplot')\n",
    "rcParams['font.size'] = 14\n",
    "rcParams['legend.fontsize'] = 'small'\n",
    "rcParams['figure.titlesize'] = 'large'"
   ]
  },
  {
   "cell_type": "code",
   "execution_count": 2,
   "metadata": {},
   "outputs": [],
   "source": [
    "df = pd.read_csv('../data/train.csv')\n",
    "df_5class = df[df['Labels'] != 4].copy()\n",
    "y = df_5class['Labels']"
   ]
  },
  {
   "cell_type": "code",
   "execution_count": 3,
   "metadata": {},
   "outputs": [
    {
     "data": {
      "text/plain": [
       "[['say',\n",
       "  'annies',\n",
       "  'list',\n",
       "  'political',\n",
       "  'group',\n",
       "  'support',\n",
       "  'third-trimester',\n",
       "  'abortion',\n",
       "  'demand'],\n",
       " ['decline',\n",
       "  'coal',\n",
       "  'start',\n",
       "  'started',\n",
       "  'natural',\n",
       "  'gas',\n",
       "  'took',\n",
       "  'started',\n",
       "  'begin',\n",
       "  'president',\n",
       "  'george',\n",
       "  'w.',\n",
       "  'bush',\n",
       "  'administration'],\n",
       " ['hillary',\n",
       "  'clinton',\n",
       "  'agrees',\n",
       "  'john',\n",
       "  'mccain',\n",
       "  '``',\n",
       "  'voting',\n",
       "  'give',\n",
       "  'george',\n",
       "  'bush',\n",
       "  'benefit',\n",
       "  'doubt',\n",
       "  'iran',\n",
       "  \"''\"],\n",
       " ['health',\n",
       "  'care',\n",
       "  'reform',\n",
       "  'legislation',\n",
       "  'likely',\n",
       "  'mandate',\n",
       "  'free',\n",
       "  'sex',\n",
       "  'change',\n",
       "  'surgery'],\n",
       " ['economic', 'turnaround', 'started', 'end', 'term'],\n",
       " ['chicago',\n",
       "  'bear',\n",
       "  'starting',\n",
       "  'quarterback',\n",
       "  'last',\n",
       "  '10',\n",
       "  'year',\n",
       "  'total',\n",
       "  'number',\n",
       "  'tenured',\n",
       "  'uw',\n",
       "  'faculty',\n",
       "  'fired',\n",
       "  'last',\n",
       "  'two',\n",
       "  'decade'],\n",
       " ['jim', 'dunnam', 'lived', 'district', 'represents', 'year'],\n",
       " [\"'m\",\n",
       "  'person',\n",
       "  'stage',\n",
       "  'worked',\n",
       "  'actively',\n",
       "  'last',\n",
       "  'year',\n",
       "  'passing',\n",
       "  'along',\n",
       "  'rus',\n",
       "  'feingold',\n",
       "  'toughest',\n",
       "  'ethic',\n",
       "  'reform',\n",
       "  'since',\n",
       "  'watergate'],\n",
       " ['however',\n",
       "  'took',\n",
       "  '19.5',\n",
       "  'million',\n",
       "  'oregon',\n",
       "  'lottery',\n",
       "  'fund',\n",
       "  'port',\n",
       "  'newport',\n",
       "  'eventually',\n",
       "  'land',\n",
       "  'new',\n",
       "  'noaa',\n",
       "  'marine',\n",
       "  'operation',\n",
       "  'center-pacific'],\n",
       " ['say',\n",
       "  'gop',\n",
       "  'primary',\n",
       "  'opponent',\n",
       "  'glenn',\n",
       "  'grothman',\n",
       "  'joe',\n",
       "  'leibham',\n",
       "  'cast',\n",
       "  'compromise',\n",
       "  'vote',\n",
       "  'cost',\n",
       "  '788',\n",
       "  'million',\n",
       "  'higher',\n",
       "  'electricity',\n",
       "  'cost']]"
      ]
     },
     "execution_count": 3,
     "metadata": {},
     "output_type": "execute_result"
    }
   ],
   "source": [
    "corpus = df_5class['Text'].tolist()\n",
    "bow = [nlp.extract_bow_from_raw_text(row) for row in corpus]\n",
    "bow[:10]"
   ]
  },
  {
   "cell_type": "code",
   "execution_count": null,
   "metadata": {},
   "outputs": [],
   "source": [
    "size = 100\n",
    "\n",
    "model = gensim.models.Word2Vec(bow, min_count = 1,  \n",
    "                              size = size, window = 5, seed=2) "
   ]
  },
  {
   "cell_type": "code",
   "execution_count": null,
   "metadata": {},
   "outputs": [],
   "source": [
    "model.wv.vocab"
   ]
  },
  {
   "cell_type": "code",
   "execution_count": null,
   "metadata": {},
   "outputs": [],
   "source": [
    "model.wv['health']"
   ]
  },
  {
   "cell_type": "code",
   "execution_count": null,
   "metadata": {},
   "outputs": [],
   "source": [
    "corpus_vec = np.zeros((len(bow),size))\n",
    "\n",
    "for i, row in enumerate(bow):\n",
    "    row_vec = np.zeros(size)\n",
    "    for word in row:\n",
    "        row_vec += model.wv[word]\n",
    "    \n",
    "    corpus_vec[i] = row_vec"
   ]
  },
  {
   "cell_type": "code",
   "execution_count": null,
   "metadata": {},
   "outputs": [],
   "source": [
    "min(len(ele) for ele in bow), max(len(ele) for ele in bow) "
   ]
  },
  {
   "cell_type": "code",
   "execution_count": null,
   "metadata": {},
   "outputs": [],
   "source": [
    "lst = [len(ele) for ele in bow]\n",
    "np.median(lst)"
   ]
  },
  {
   "cell_type": "code",
   "execution_count": null,
   "metadata": {},
   "outputs": [],
   "source": [
    "corpus_vec\n"
   ]
  },
  {
   "cell_type": "code",
   "execution_count": 21,
   "metadata": {},
   "outputs": [],
   "source": [
    "scores = []\n",
    "\n",
    "bow_train, bow_test, y_train, y_test = train_test_split(bow, y,\n",
    "                                                            test_size=0.2,\n",
    "                                                            stratify=y,\n",
    "                                                            random_state=42)\n",
    "# sizes = range(300, 401, 10)\n",
    "# for size in sizes:\n",
    "#     vec_train, vec_test = nlp.word_embed(bow_train, bow_test, size)\n",
    "#     rf = RandomForestClassifier().fit(vec_train, y_train)\n",
    "#     scores.append(f1_score(y_test, rf.predict(vec_test), average='weighted'))"
   ]
  },
  {
   "cell_type": "code",
   "execution_count": null,
   "metadata": {},
   "outputs": [],
   "source": [
    "fig, ax = plt.subplots()\n",
    "\n",
    "ax.plot(sizes, scores)\n",
    "ax.set_xlabel('Sizes')\n",
    "ax.set_ylabel('Test Score')\n",
    "ax.set_title(\"RF scores by Vector Sizes\")\n",
    "plt.savefig('../images/wv_size_tuning2.png');"
   ]
  },
  {
   "cell_type": "code",
   "execution_count": null,
   "metadata": {},
   "outputs": [],
   "source": [
    "scores"
   ]
  },
  {
   "cell_type": "code",
   "execution_count": 48,
   "metadata": {},
   "outputs": [
    {
     "data": {
      "text/plain": [
       "0.977076275982616"
      ]
     },
     "execution_count": 48,
     "metadata": {},
     "output_type": "execute_result"
    }
   ],
   "source": [
    "from sklearn.metrics.pairwise import cosine_similarity\n",
    "\n",
    "vec_train, vec_test = nlp.word_embed(bow_train, bow_test, 50)\n",
    "\n",
    "\n",
    "vec_train.shape\n",
    "cosim = cosine_similarity(vec_train[1435].reshape(1,-1), vec_train)\n",
    "\n",
    "np.min(cosim)\n",
    "\n"
   ]
  },
  {
   "cell_type": "code",
   "execution_count": 49,
   "metadata": {},
   "outputs": [
    {
     "data": {
      "text/plain": [
       "393"
      ]
     },
     "execution_count": 49,
     "metadata": {},
     "output_type": "execute_result"
    }
   ],
   "source": [
    "np.argmin(cosim)"
   ]
  },
  {
   "cell_type": "code",
   "execution_count": 50,
   "metadata": {},
   "outputs": [
    {
     "name": "stdout",
     "output_type": "stream",
     "text": [
      "['say', 'rob', 'portman', 'even', 'voted', 'allow', 'people', 'terrorism', 'watch', 'list', 'buy', 'gun']\n",
      "['socialized', 'medicine']\n"
     ]
    }
   ],
   "source": [
    "print(bow_train[1435])\n",
    "print(bow_train[np.argmin(cosim)])"
   ]
  },
  {
   "cell_type": "code",
   "execution_count": 51,
   "metadata": {},
   "outputs": [
    {
     "name": "stdout",
     "output_type": "stream",
     "text": [
      "['nearly', '180,000', 'illegal', 'immigrant', 'criminal', 'record', 'ordered', 'deported', 'country', 'tonight', 'roaming', 'free', 'threaten', 'peaceful', 'citizen']\n",
      "['socialized', 'medicine']\n"
     ]
    }
   ],
   "source": [
    "vec_train.shape\n",
    "cosim = cosine_similarity(vec_train[4781].reshape(1,-1), vec_train)\n",
    "\n",
    "np.min(cosim)\n",
    "\n",
    "print(bow_train[4781])\n",
    "print(bow_train[np.argmin(cosim)])\n"
   ]
  },
  {
   "cell_type": "code",
   "execution_count": 52,
   "metadata": {},
   "outputs": [
    {
     "data": {
      "text/plain": [
       "0.9782040707898372"
      ]
     },
     "execution_count": 52,
     "metadata": {},
     "output_type": "execute_result"
    }
   ],
   "source": [
    "np.min(cosim)"
   ]
  },
  {
   "cell_type": "code",
   "execution_count": 53,
   "metadata": {},
   "outputs": [
    {
     "data": {
      "text/plain": [
       "array([[0.99966784, 0.999687  , 0.99989965, ..., 0.99685302, 0.99775535,\n",
       "        0.99991449]])"
      ]
     },
     "execution_count": 53,
     "metadata": {},
     "output_type": "execute_result"
    }
   ],
   "source": [
    "cosim"
   ]
  },
  {
   "cell_type": "code",
   "execution_count": 56,
   "metadata": {},
   "outputs": [
    {
     "data": {
      "text/plain": [
       "array([[   0,  393],\n",
       "       [   0,  404],\n",
       "       [   0, 6134]])"
      ]
     },
     "execution_count": 56,
     "metadata": {},
     "output_type": "execute_result"
    }
   ],
   "source": [
    "np.argwhere(cosim < 0.99)"
   ]
  },
  {
   "cell_type": "code",
   "execution_count": 55,
   "metadata": {},
   "outputs": [
    {
     "name": "stdout",
     "output_type": "stream",
     "text": [
      "['socialized', 'medicine']\n",
      "['definition', 'taker', 'maker']\n",
      "['torture']\n"
     ]
    }
   ],
   "source": [
    "print(bow_train[393])\n",
    "print(bow_train[404])\n",
    "print(bow_train[6134])"
   ]
  },
  {
   "cell_type": "code",
   "execution_count": 24,
   "metadata": {},
   "outputs": [
    {
     "data": {
      "text/plain": [
       "(7520, 1881, 7520, 1881)"
      ]
     },
     "execution_count": 24,
     "metadata": {},
     "output_type": "execute_result"
    }
   ],
   "source": [
    "len(bow_train), len(bow_test), len(y_train), len(y_test)"
   ]
  },
  {
   "cell_type": "code",
   "execution_count": 57,
   "metadata": {},
   "outputs": [
    {
     "data": {
      "text/plain": [
       "array([[-0.771783  ,  0.38459969,  0.45658033, ...,  0.39073921,\n",
       "        -0.06967998, -0.801142  ],\n",
       "       [-0.16903634,  0.08255738,  0.09142965, ...,  0.0862899 ,\n",
       "        -0.02181181, -0.16743236],\n",
       "       [-0.39466765,  0.1946841 ,  0.22455869, ...,  0.20796908,\n",
       "        -0.04206179, -0.4047093 ],\n",
       "       ...,\n",
       "       [-0.62234215,  0.30225181,  0.38838601, ...,  0.2746676 ,\n",
       "        -0.01648996, -0.64899872],\n",
       "       [-0.71058397,  0.34122111,  0.4392433 , ...,  0.32818729,\n",
       "        -0.02748924, -0.73743534],\n",
       "       [-0.67034803,  0.33753395,  0.38848971, ...,  0.3595038 ,\n",
       "        -0.07204736, -0.69507749]])"
      ]
     },
     "execution_count": 57,
     "metadata": {},
     "output_type": "execute_result"
    }
   ],
   "source": [
    "vec_train"
   ]
  },
  {
   "cell_type": "code",
   "execution_count": 60,
   "metadata": {},
   "outputs": [
    {
     "name": "stdout",
     "output_type": "stream",
     "text": [
      "['socialized', 'medicine']\n",
      "['definition', 'taker', 'maker']\n"
     ]
    }
   ],
   "source": [
    "vec_train.shape\n",
    "cosim = cosine_similarity(vec_train[393].reshape(1,-1), vec_train)\n",
    "\n",
    "np.min(cosim)\n",
    "\n",
    "print(bow_train[393])\n",
    "print(bow_train[np.argmin(cosim)])\n"
   ]
  },
  {
   "cell_type": "code",
   "execution_count": 61,
   "metadata": {},
   "outputs": [
    {
     "data": {
      "text/plain": [
       "0.9648142369396984"
      ]
     },
     "execution_count": 61,
     "metadata": {},
     "output_type": "execute_result"
    }
   ],
   "source": [
    "np.min(cosim)"
   ]
  },
  {
   "cell_type": "code",
   "execution_count": 62,
   "metadata": {},
   "outputs": [
    {
     "data": {
      "text/plain": [
       "array([[0.97667493, 0.97566719, 0.97781566, ..., 0.97197083, 0.97322621,\n",
       "        0.97758678]])"
      ]
     },
     "execution_count": 62,
     "metadata": {},
     "output_type": "execute_result"
    }
   ],
   "source": [
    "cosim"
   ]
  },
  {
   "cell_type": "code",
   "execution_count": 63,
   "metadata": {},
   "outputs": [
    {
     "data": {
      "text/plain": [
       "array([-0.03144798,  0.01419266,  0.01512869, -0.00390199, -0.00676349,\n",
       "        0.00603408, -0.02803763,  0.00202296,  0.00964426,  0.02018273,\n",
       "        0.00612537, -0.03439556,  0.00569673,  0.00765855,  0.03869031,\n",
       "       -0.02984392, -0.01036862,  0.02628409,  0.0440286 , -0.01699016,\n",
       "       -0.03131832, -0.04742092, -0.03998781, -0.01508568, -0.01709605,\n",
       "        0.01426086,  0.00622103,  0.00468528,  0.02227516,  0.00899867,\n",
       "        0.02053362, -0.00054347, -0.00083126, -0.02419918, -0.00610747,\n",
       "        0.00975832,  0.0085134 ,  0.0292564 , -0.0147164 , -0.00588328,\n",
       "       -0.02473221,  0.02414072, -0.00642683, -0.03757386, -0.0114057 ,\n",
       "       -0.0088074 , -0.01530516,  0.02356858, -0.00444644, -0.02766982])"
      ]
     },
     "execution_count": 63,
     "metadata": {},
     "output_type": "execute_result"
    }
   ],
   "source": [
    "vec_train[393]"
   ]
  },
  {
   "cell_type": "code",
   "execution_count": 64,
   "metadata": {},
   "outputs": [
    {
     "data": {
      "text/plain": [
       "array([-0.40484088,  0.20406661,  0.23171003,  0.04395007, -0.02542637,\n",
       "       -0.03115412, -0.26059326,  0.02403478,  0.11233664,  0.26499851,\n",
       "        0.00263696, -0.47280949,  0.02473226,  0.04285309,  0.45731367,\n",
       "       -0.29291791, -0.14167692,  0.29921088,  0.56122067, -0.26750691,\n",
       "       -0.46821912, -0.61623138, -0.48988023, -0.11955904, -0.31794851,\n",
       "        0.16421704,  0.12861977,  0.11427963,  0.29194579,  0.11079982,\n",
       "        0.22657431, -0.12765786,  0.00989515, -0.26325847, -0.04754418,\n",
       "        0.16013421,  0.10301451,  0.29159822, -0.11391065, -0.0085085 ,\n",
       "       -0.45504891,  0.30443351, -0.02504027, -0.47038468, -0.14851224,\n",
       "       -0.15607522, -0.19667819,  0.22099297, -0.04509797, -0.41201732])"
      ]
     },
     "execution_count": 64,
     "metadata": {},
     "output_type": "execute_result"
    }
   ],
   "source": [
    "vec_train[4781]"
   ]
  },
  {
   "cell_type": "code",
   "execution_count": null,
   "metadata": {},
   "outputs": [],
   "source": []
  }
 ],
 "metadata": {
  "kernelspec": {
   "display_name": "Python 3",
   "language": "python",
   "name": "python3"
  },
  "language_info": {
   "codemirror_mode": {
    "name": "ipython",
    "version": 3
   },
   "file_extension": ".py",
   "mimetype": "text/x-python",
   "name": "python",
   "nbconvert_exporter": "python",
   "pygments_lexer": "ipython3",
   "version": "3.7.6"
  }
 },
 "nbformat": 4,
 "nbformat_minor": 4
}
